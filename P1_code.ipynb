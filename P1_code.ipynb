{
 "cells": [
  {
   "cell_type": "code",
   "execution_count": 143,
   "id": "91c97123",
   "metadata": {},
   "outputs": [
    {
     "name": "stdout",
     "output_type": "stream",
     "text": [
      "/Users/rushipankade/Desktop/Untitled Folder\n"
     ]
    }
   ],
   "source": [
    "import numpy as np\n",
    "import pandas as pd\n",
    "import seaborn as sns\n",
    "import matplotlib.pyplot as plt\n",
    "import sklearn\n",
    "from patsy import dmatrices\n",
    "import os \n",
    "working_directory = os.getcwd()\n",
    "print(working_directory)"
   ]
  },
  {
   "cell_type": "code",
   "execution_count": 11,
   "id": "a97d779b",
   "metadata": {},
   "outputs": [
    {
     "data": {
      "text/html": [
       "<div>\n",
       "<style scoped>\n",
       "    .dataframe tbody tr th:only-of-type {\n",
       "        vertical-align: middle;\n",
       "    }\n",
       "\n",
       "    .dataframe tbody tr th {\n",
       "        vertical-align: top;\n",
       "    }\n",
       "\n",
       "    .dataframe thead th {\n",
       "        text-align: right;\n",
       "    }\n",
       "</style>\n",
       "<table border=\"1\" class=\"dataframe\">\n",
       "  <thead>\n",
       "    <tr style=\"text-align: right;\">\n",
       "      <th></th>\n",
       "      <th>Age</th>\n",
       "      <th>Attrition</th>\n",
       "      <th>Department</th>\n",
       "      <th>DistanceFromHome</th>\n",
       "      <th>Education</th>\n",
       "      <th>EducationField</th>\n",
       "      <th>EnvironmentSatisfaction</th>\n",
       "      <th>JobSatisfaction</th>\n",
       "      <th>MaritalStatus</th>\n",
       "      <th>MonthlyIncome</th>\n",
       "      <th>NumCompaniesWorked</th>\n",
       "      <th>WorkLifeBalance</th>\n",
       "      <th>YearsAtCompany</th>\n",
       "    </tr>\n",
       "  </thead>\n",
       "  <tbody>\n",
       "    <tr>\n",
       "      <th>0</th>\n",
       "      <td>41</td>\n",
       "      <td>Yes</td>\n",
       "      <td>Sales</td>\n",
       "      <td>1</td>\n",
       "      <td>2</td>\n",
       "      <td>Life Sciences</td>\n",
       "      <td>2</td>\n",
       "      <td>4</td>\n",
       "      <td>Single</td>\n",
       "      <td>5993</td>\n",
       "      <td>8</td>\n",
       "      <td>1</td>\n",
       "      <td>6</td>\n",
       "    </tr>\n",
       "    <tr>\n",
       "      <th>1</th>\n",
       "      <td>49</td>\n",
       "      <td>No</td>\n",
       "      <td>Research &amp; Development</td>\n",
       "      <td>8</td>\n",
       "      <td>1</td>\n",
       "      <td>Life Sciences</td>\n",
       "      <td>3</td>\n",
       "      <td>2</td>\n",
       "      <td>Married</td>\n",
       "      <td>5130</td>\n",
       "      <td>1</td>\n",
       "      <td>3</td>\n",
       "      <td>10</td>\n",
       "    </tr>\n",
       "    <tr>\n",
       "      <th>2</th>\n",
       "      <td>37</td>\n",
       "      <td>Yes</td>\n",
       "      <td>Research &amp; Development</td>\n",
       "      <td>2</td>\n",
       "      <td>2</td>\n",
       "      <td>Other</td>\n",
       "      <td>4</td>\n",
       "      <td>3</td>\n",
       "      <td>Single</td>\n",
       "      <td>2090</td>\n",
       "      <td>6</td>\n",
       "      <td>3</td>\n",
       "      <td>0</td>\n",
       "    </tr>\n",
       "    <tr>\n",
       "      <th>3</th>\n",
       "      <td>33</td>\n",
       "      <td>No</td>\n",
       "      <td>Research &amp; Development</td>\n",
       "      <td>3</td>\n",
       "      <td>4</td>\n",
       "      <td>Life Sciences</td>\n",
       "      <td>4</td>\n",
       "      <td>3</td>\n",
       "      <td>Married</td>\n",
       "      <td>2909</td>\n",
       "      <td>1</td>\n",
       "      <td>3</td>\n",
       "      <td>8</td>\n",
       "    </tr>\n",
       "    <tr>\n",
       "      <th>4</th>\n",
       "      <td>27</td>\n",
       "      <td>No</td>\n",
       "      <td>Research &amp; Development</td>\n",
       "      <td>2</td>\n",
       "      <td>1</td>\n",
       "      <td>Medical</td>\n",
       "      <td>1</td>\n",
       "      <td>2</td>\n",
       "      <td>Married</td>\n",
       "      <td>3468</td>\n",
       "      <td>9</td>\n",
       "      <td>3</td>\n",
       "      <td>2</td>\n",
       "    </tr>\n",
       "    <tr>\n",
       "      <th>...</th>\n",
       "      <td>...</td>\n",
       "      <td>...</td>\n",
       "      <td>...</td>\n",
       "      <td>...</td>\n",
       "      <td>...</td>\n",
       "      <td>...</td>\n",
       "      <td>...</td>\n",
       "      <td>...</td>\n",
       "      <td>...</td>\n",
       "      <td>...</td>\n",
       "      <td>...</td>\n",
       "      <td>...</td>\n",
       "      <td>...</td>\n",
       "    </tr>\n",
       "    <tr>\n",
       "      <th>1465</th>\n",
       "      <td>36</td>\n",
       "      <td>No</td>\n",
       "      <td>Research &amp; Development</td>\n",
       "      <td>23</td>\n",
       "      <td>2</td>\n",
       "      <td>Medical</td>\n",
       "      <td>3</td>\n",
       "      <td>4</td>\n",
       "      <td>Married</td>\n",
       "      <td>2571</td>\n",
       "      <td>4</td>\n",
       "      <td>3</td>\n",
       "      <td>5</td>\n",
       "    </tr>\n",
       "    <tr>\n",
       "      <th>1466</th>\n",
       "      <td>39</td>\n",
       "      <td>No</td>\n",
       "      <td>Research &amp; Development</td>\n",
       "      <td>6</td>\n",
       "      <td>1</td>\n",
       "      <td>Medical</td>\n",
       "      <td>4</td>\n",
       "      <td>1</td>\n",
       "      <td>Married</td>\n",
       "      <td>9991</td>\n",
       "      <td>4</td>\n",
       "      <td>3</td>\n",
       "      <td>7</td>\n",
       "    </tr>\n",
       "    <tr>\n",
       "      <th>1467</th>\n",
       "      <td>27</td>\n",
       "      <td>No</td>\n",
       "      <td>Research &amp; Development</td>\n",
       "      <td>4</td>\n",
       "      <td>3</td>\n",
       "      <td>Life Sciences</td>\n",
       "      <td>2</td>\n",
       "      <td>2</td>\n",
       "      <td>Married</td>\n",
       "      <td>6142</td>\n",
       "      <td>1</td>\n",
       "      <td>3</td>\n",
       "      <td>6</td>\n",
       "    </tr>\n",
       "    <tr>\n",
       "      <th>1468</th>\n",
       "      <td>49</td>\n",
       "      <td>No</td>\n",
       "      <td>Sales</td>\n",
       "      <td>2</td>\n",
       "      <td>3</td>\n",
       "      <td>Medical</td>\n",
       "      <td>4</td>\n",
       "      <td>2</td>\n",
       "      <td>Married</td>\n",
       "      <td>5390</td>\n",
       "      <td>2</td>\n",
       "      <td>2</td>\n",
       "      <td>9</td>\n",
       "    </tr>\n",
       "    <tr>\n",
       "      <th>1469</th>\n",
       "      <td>34</td>\n",
       "      <td>No</td>\n",
       "      <td>Research &amp; Development</td>\n",
       "      <td>8</td>\n",
       "      <td>3</td>\n",
       "      <td>Medical</td>\n",
       "      <td>2</td>\n",
       "      <td>3</td>\n",
       "      <td>Married</td>\n",
       "      <td>4404</td>\n",
       "      <td>2</td>\n",
       "      <td>4</td>\n",
       "      <td>4</td>\n",
       "    </tr>\n",
       "  </tbody>\n",
       "</table>\n",
       "<p>1470 rows × 13 columns</p>\n",
       "</div>"
      ],
      "text/plain": [
       "      Age Attrition              Department  DistanceFromHome  Education  \\\n",
       "0      41       Yes                   Sales                 1          2   \n",
       "1      49        No  Research & Development                 8          1   \n",
       "2      37       Yes  Research & Development                 2          2   \n",
       "3      33        No  Research & Development                 3          4   \n",
       "4      27        No  Research & Development                 2          1   \n",
       "...   ...       ...                     ...               ...        ...   \n",
       "1465   36        No  Research & Development                23          2   \n",
       "1466   39        No  Research & Development                 6          1   \n",
       "1467   27        No  Research & Development                 4          3   \n",
       "1468   49        No                   Sales                 2          3   \n",
       "1469   34        No  Research & Development                 8          3   \n",
       "\n",
       "     EducationField  EnvironmentSatisfaction  JobSatisfaction MaritalStatus  \\\n",
       "0     Life Sciences                        2                4        Single   \n",
       "1     Life Sciences                        3                2       Married   \n",
       "2             Other                        4                3        Single   \n",
       "3     Life Sciences                        4                3       Married   \n",
       "4           Medical                        1                2       Married   \n",
       "...             ...                      ...              ...           ...   \n",
       "1465        Medical                        3                4       Married   \n",
       "1466        Medical                        4                1       Married   \n",
       "1467  Life Sciences                        2                2       Married   \n",
       "1468        Medical                        4                2       Married   \n",
       "1469        Medical                        2                3       Married   \n",
       "\n",
       "      MonthlyIncome  NumCompaniesWorked  WorkLifeBalance  YearsAtCompany  \n",
       "0              5993                   8                1               6  \n",
       "1              5130                   1                3              10  \n",
       "2              2090                   6                3               0  \n",
       "3              2909                   1                3               8  \n",
       "4              3468                   9                3               2  \n",
       "...             ...                 ...              ...             ...  \n",
       "1465           2571                   4                3               5  \n",
       "1466           9991                   4                3               7  \n",
       "1467           6142                   1                3               6  \n",
       "1468           5390                   2                2               9  \n",
       "1469           4404                   2                4               4  \n",
       "\n",
       "[1470 rows x 13 columns]"
      ]
     },
     "execution_count": 11,
     "metadata": {},
     "output_type": "execute_result"
    }
   ],
   "source": [
    "path = working_directory + '/IBM Attrition Data.csv'\n",
    "employee_df = pd.read_csv(path)\n",
    "employee_df"
   ]
  },
  {
   "cell_type": "code",
   "execution_count": 30,
   "id": "bc6368d0",
   "metadata": {},
   "outputs": [
    {
     "data": {
      "image/png": "[encoded data removed]",
      "text/plain": [
       "<Figure size 720x576 with 1 Axes>"
      ]
     },
     "metadata": {
      "needs_background": "light"
     },
     "output_type": "display_data"
    }
   ],
   "source": [
    "plt.figure(figsize=(10,8))\n",
    "plt.hist(employee_df['Age'],bins= 70, rwidth=0.95)\n",
    "plt.xlabel(\"Age\")\n",
    "plt.ylabel(\"No of Employees\")\n",
    "plt.show()"
   ]
  },
  {
   "cell_type": "code",
   "execution_count": 41,
   "id": "5b0df885",
   "metadata": {},
   "outputs": [
    {
     "data": {
      "text/plain": [
       "Text(0.5, 1.0, 'Attrition by age')"
      ]
     },
     "execution_count": 41,
     "metadata": {},
     "output_type": "execute_result"
    },
    {
     "data": {
      "image/png": "[encoded data removed]",
      "text/plain": [
       "<Figure size 1008x720 with 1 Axes>"
      ]
     },
     "metadata": {
      "needs_background": "light"
     },
     "output_type": "display_data"
    }
   ],
   "source": [
    "plt.figure(figsize=(14,10))\n",
    "plt.scatter(employee_df.Attrition,employee_df.Age, alpha=0.55)\n",
    "plt.xlabel(\"Attrition\", fontsize = 15)\n",
    "plt.ylabel(\"Age\", fontsize = 15)\n",
    "plt.title(\"Attrition by age\", fontsize = 15)"
   ]
  },
  {
   "cell_type": "code",
   "execution_count": 58,
   "id": "84ef4a32",
   "metadata": {},
   "outputs": [
    {
     "data": {
      "text/plain": [
       "Text(0.5, 1.0, 'Plot for left employees')"
      ]
     },
     "execution_count": 58,
     "metadata": {},
     "output_type": "execute_result"
    },
    {
     "data": {
      "image/png": "[encoded data removed]",
      "text/plain": [
       "<Figure size 432x288 with 1 Axes>"
      ]
     },
     "metadata": {
      "needs_background": "light"
     },
     "output_type": "display_data"
    }
   ],
   "source": [
    "plt.figure(figsize=(6,4))\n",
    "employee_df.Attrition.value_counts().plot(kind = 'barh')\n",
    "plt.xlabel(\"No of employes\")\n",
    "plt.ylabel(\"Attrition\")\n",
    "plt.title(\"Plot for left employees\")"
   ]
  },
  {
   "cell_type": "code",
   "execution_count": 60,
   "id": "b2279570",
   "metadata": {},
   "outputs": [
    {
     "data": {
      "text/plain": [
       "array(['Life Sciences', 'Other', 'Medical', 'Marketing',\n",
       "       'Technical Degree', 'Human Resources'], dtype=object)"
      ]
     },
     "execution_count": 60,
     "metadata": {},
     "output_type": "execute_result"
    }
   ],
   "source": [
    "employee_df.EducationField.unique()"
   ]
  },
  {
   "cell_type": "code",
   "execution_count": 66,
   "id": "8c5f9a0b",
   "metadata": {},
   "outputs": [
    {
     "data": {
      "text/plain": [
       "Text(0.5, 1.0, 'Distribution by Education Field')"
      ]
     },
     "execution_count": 66,
     "metadata": {},
     "output_type": "execute_result"
    },
    {
     "data": {
      "image/png": "[encoded data removed]",
      "text/plain": [
       "<Figure size 720x576 with 1 Axes>"
      ]
     },
     "metadata": {
      "needs_background": "light"
     },
     "output_type": "display_data"
    }
   ],
   "source": [
    "plt.figure(figsize=(10,8))\n",
    "employee_df.EducationField.value_counts().plot(kind = 'barh', color = 'g')\n",
    "plt.xlabel(\"No of Employees\")\n",
    "plt.ylabel(\"Education Field\")\n",
    "plt.title(\"Distribution by Education Field\", fontsize = 10)"
   ]
  },
  {
   "cell_type": "code",
   "execution_count": 74,
   "id": "a937262f",
   "metadata": {},
   "outputs": [
    {
     "data": {
      "image/png": "[encoded data removed]",
      "text/plain": [
       "<Figure size 288x576 with 1 Axes>"
      ]
     },
     "metadata": {
      "needs_background": "light"
     },
     "output_type": "display_data"
    }
   ],
   "source": [
    "plt.figure(figsize=(4,8))\n",
    "plt.hist(employee_df['MaritalStatus'])\n",
    "plt.show()"
   ]
  },
  {
   "cell_type": "code",
   "execution_count": 77,
   "id": "62871f88",
   "metadata": {},
   "outputs": [],
   "source": [
    "employee_df['Attrition'].replace('Yes',1, inplace=True)\n",
    "employee_df['Attrition'].replace('No',0, inplace=True)"
   ]
  },
  {
   "cell_type": "code",
   "execution_count": 78,
   "id": "72197033",
   "metadata": {},
   "outputs": [
    {
     "data": {
      "text/html": [
       "<div>\n",
       "<style scoped>\n",
       "    .dataframe tbody tr th:only-of-type {\n",
       "        vertical-align: middle;\n",
       "    }\n",
       "\n",
       "    .dataframe tbody tr th {\n",
       "        vertical-align: top;\n",
       "    }\n",
       "\n",
       "    .dataframe thead th {\n",
       "        text-align: right;\n",
       "    }\n",
       "</style>\n",
       "<table border=\"1\" class=\"dataframe\">\n",
       "  <thead>\n",
       "    <tr style=\"text-align: right;\">\n",
       "      <th></th>\n",
       "      <th>Age</th>\n",
       "      <th>Attrition</th>\n",
       "      <th>Department</th>\n",
       "      <th>DistanceFromHome</th>\n",
       "      <th>Education</th>\n",
       "      <th>EducationField</th>\n",
       "      <th>EnvironmentSatisfaction</th>\n",
       "      <th>JobSatisfaction</th>\n",
       "      <th>MaritalStatus</th>\n",
       "      <th>MonthlyIncome</th>\n",
       "      <th>NumCompaniesWorked</th>\n",
       "      <th>WorkLifeBalance</th>\n",
       "      <th>YearsAtCompany</th>\n",
       "    </tr>\n",
       "  </thead>\n",
       "  <tbody>\n",
       "    <tr>\n",
       "      <th>0</th>\n",
       "      <td>41</td>\n",
       "      <td>1</td>\n",
       "      <td>Sales</td>\n",
       "      <td>1</td>\n",
       "      <td>2</td>\n",
       "      <td>Life Sciences</td>\n",
       "      <td>2</td>\n",
       "      <td>4</td>\n",
       "      <td>Single</td>\n",
       "      <td>5993</td>\n",
       "      <td>8</td>\n",
       "      <td>1</td>\n",
       "      <td>6</td>\n",
       "    </tr>\n",
       "    <tr>\n",
       "      <th>1</th>\n",
       "      <td>49</td>\n",
       "      <td>0</td>\n",
       "      <td>Research &amp; Development</td>\n",
       "      <td>8</td>\n",
       "      <td>1</td>\n",
       "      <td>Life Sciences</td>\n",
       "      <td>3</td>\n",
       "      <td>2</td>\n",
       "      <td>Married</td>\n",
       "      <td>5130</td>\n",
       "      <td>1</td>\n",
       "      <td>3</td>\n",
       "      <td>10</td>\n",
       "    </tr>\n",
       "    <tr>\n",
       "      <th>2</th>\n",
       "      <td>37</td>\n",
       "      <td>1</td>\n",
       "      <td>Research &amp; Development</td>\n",
       "      <td>2</td>\n",
       "      <td>2</td>\n",
       "      <td>Other</td>\n",
       "      <td>4</td>\n",
       "      <td>3</td>\n",
       "      <td>Single</td>\n",
       "      <td>2090</td>\n",
       "      <td>6</td>\n",
       "      <td>3</td>\n",
       "      <td>0</td>\n",
       "    </tr>\n",
       "    <tr>\n",
       "      <th>3</th>\n",
       "      <td>33</td>\n",
       "      <td>0</td>\n",
       "      <td>Research &amp; Development</td>\n",
       "      <td>3</td>\n",
       "      <td>4</td>\n",
       "      <td>Life Sciences</td>\n",
       "      <td>4</td>\n",
       "      <td>3</td>\n",
       "      <td>Married</td>\n",
       "      <td>2909</td>\n",
       "      <td>1</td>\n",
       "      <td>3</td>\n",
       "      <td>8</td>\n",
       "    </tr>\n",
       "    <tr>\n",
       "      <th>4</th>\n",
       "      <td>27</td>\n",
       "      <td>0</td>\n",
       "      <td>Research &amp; Development</td>\n",
       "      <td>2</td>\n",
       "      <td>1</td>\n",
       "      <td>Medical</td>\n",
       "      <td>1</td>\n",
       "      <td>2</td>\n",
       "      <td>Married</td>\n",
       "      <td>3468</td>\n",
       "      <td>9</td>\n",
       "      <td>3</td>\n",
       "      <td>2</td>\n",
       "    </tr>\n",
       "  </tbody>\n",
       "</table>\n",
       "</div>"
      ],
      "text/plain": [
       "   Age  Attrition              Department  DistanceFromHome  Education  \\\n",
       "0   41          1                   Sales                 1          2   \n",
       "1   49          0  Research & Development                 8          1   \n",
       "2   37          1  Research & Development                 2          2   \n",
       "3   33          0  Research & Development                 3          4   \n",
       "4   27          0  Research & Development                 2          1   \n",
       "\n",
       "  EducationField  EnvironmentSatisfaction  JobSatisfaction MaritalStatus  \\\n",
       "0  Life Sciences                        2                4        Single   \n",
       "1  Life Sciences                        3                2       Married   \n",
       "2          Other                        4                3        Single   \n",
       "3  Life Sciences                        4                3       Married   \n",
       "4        Medical                        1                2       Married   \n",
       "\n",
       "   MonthlyIncome  NumCompaniesWorked  WorkLifeBalance  YearsAtCompany  \n",
       "0           5993                   8                1               6  \n",
       "1           5130                   1                3              10  \n",
       "2           2090                   6                3               0  \n",
       "3           2909                   1                3               8  \n",
       "4           3468                   9                3               2  "
      ]
     },
     "execution_count": 78,
     "metadata": {},
     "output_type": "execute_result"
    }
   ],
   "source": [
    "employee_df.head()"
   ]
  },
  {
   "cell_type": "code",
   "execution_count": 81,
   "id": "973077b0",
   "metadata": {},
   "outputs": [
    {
     "data": {
      "text/plain": [
       "0    1\n",
       "1    0\n",
       "2    1\n",
       "3    0\n",
       "4    0\n",
       "Name: Attrition, dtype: int64"
      ]
     },
     "execution_count": 81,
     "metadata": {},
     "output_type": "execute_result"
    }
   ],
   "source": [
    "X = employee_df.drop(['Attrition'],axis=1)\n",
    "X.head()\n",
    "Y = employee_df['Attrition']\n",
    "Y.head()"
   ]
  },
  {
   "cell_type": "code",
   "execution_count": 117,
   "id": "c7b47b45",
   "metadata": {},
   "outputs": [],
   "source": [
    "employee_df['EducationField'].replace('Life Sciences',1, inplace = True)\n",
    "employee_df['EducationField'].replace('Medical',2, inplace = True)\n",
    "employee_df['EducationField'].replace('Marketing',3, inplace = True)\n",
    "employee_df['EducationField'].replace('Technical Degree',4, inplace = True)\n",
    "employee_df['EducationField'].replace('Human Resources',5, inplace = True)\n",
    "employee_df['EducationField'].replace('Other',6, inplace = True)"
   ]
  },
  {
   "cell_type": "code",
   "execution_count": 118,
   "id": "985cd228",
   "metadata": {},
   "outputs": [
    {
     "data": {
      "text/plain": [
       "1    606\n",
       "2    464\n",
       "3    159\n",
       "4    132\n",
       "6     82\n",
       "5     27\n",
       "Name: EducationField, dtype: int64"
      ]
     },
     "execution_count": 118,
     "metadata": {},
     "output_type": "execute_result"
    }
   ],
   "source": [
    "employee_df['EducationField'].value_counts()"
   ]
  },
  {
   "cell_type": "code",
   "execution_count": 107,
   "id": "bca6000a",
   "metadata": {},
   "outputs": [],
   "source": [
    "employee_df['Department'].replace('Research & Development',1, inplace=True)\n",
    "employee_df['Department'].replace('Sales',2, inplace=True)\n",
    "employee_df['Department'].replace('Human Resources', 3, inplace=True)"
   ]
  },
  {
   "cell_type": "code",
   "execution_count": 108,
   "id": "75ea37f9",
   "metadata": {},
   "outputs": [],
   "source": [
    "employee_df['MaritalStatus'].replace('Married',1, inplace=True)\n",
    "employee_df['MaritalStatus'].replace('Single',2, inplace=True)\n",
    "employee_df['MaritalStatus'].replace('Divorced',3, inplace=True)"
   ]
  },
  {
   "cell_type": "code",
   "execution_count": 125,
   "id": "5a5ee547",
   "metadata": {},
   "outputs": [],
   "source": [
    "x=employee_df.select_dtypes(include=['int64'])"
   ]
  },
  {
   "cell_type": "code",
   "execution_count": 126,
   "id": "6af7ce6b",
   "metadata": {},
   "outputs": [
    {
     "data": {
      "text/plain": [
       "Age                        int64\n",
       "Attrition                  int64\n",
       "Department                 int64\n",
       "DistanceFromHome           int64\n",
       "Education                  int64\n",
       "EducationField             int64\n",
       "EnvironmentSatisfaction    int64\n",
       "JobSatisfaction            int64\n",
       "MaritalStatus              int64\n",
       "MonthlyIncome              int64\n",
       "NumCompaniesWorked         int64\n",
       "WorkLifeBalance            int64\n",
       "YearsAtCompany             int64\n",
       "dtype: object"
      ]
     },
     "execution_count": 126,
     "metadata": {},
     "output_type": "execute_result"
    }
   ],
   "source": [
    "x.dtypes"
   ]
  },
  {
   "cell_type": "code",
   "execution_count": 96,
   "id": "ac6f4301",
   "metadata": {},
   "outputs": [
    {
     "data": {
      "text/plain": [
       "0    1\n",
       "1    0\n",
       "2    1\n",
       "3    0\n",
       "4    0\n",
       "Name: Attrition, dtype: int64"
      ]
     },
     "execution_count": 96,
     "metadata": {},
     "output_type": "execute_result"
    }
   ],
   "source": [
    "y = employee_df['Attrition']\n",
    "y.head()"
   ]
  },
  {
   "cell_type": "code",
   "execution_count": 130,
   "id": "6e011244",
   "metadata": {},
   "outputs": [
    {
     "name": "stdout",
     "output_type": "stream",
     "text": [
      "Index(['Intercept', 'Age', 'Department', 'DistanceFromHome', 'Education',\n",
      "       'EducationField', 'YearsAtCompany'],\n",
      "      dtype='object')\n"
     ]
    }
   ],
   "source": [
    "y, x = dmatrices('Attrition ~ Age + Department + \\\n",
    "                  DistanceFromHome + Education + EducationField + YearsAtCompany',\n",
    "                  employee_df, return_type=\"dataframe\")\n",
    "print (x.columns)"
   ]
  },
  {
   "cell_type": "code",
   "execution_count": 137,
   "id": "cbe6e30a",
   "metadata": {},
   "outputs": [
    {
     "data": {
      "text/plain": [
       "(      Attrition\n",
       " 0           1.0\n",
       " 1           0.0\n",
       " 2           1.0\n",
       " 3           0.0\n",
       " 4           0.0\n",
       " ...         ...\n",
       " 1465        0.0\n",
       " 1466        0.0\n",
       " 1467        0.0\n",
       " 1468        0.0\n",
       " 1469        0.0\n",
       " \n",
       " [1470 rows x 1 columns],\n",
       "       Intercept   Age  Department  DistanceFromHome  Education  \\\n",
       " 0           1.0  41.0         2.0               1.0        2.0   \n",
       " 1           1.0  49.0         1.0               8.0        1.0   \n",
       " 2           1.0  37.0         1.0               2.0        2.0   \n",
       " 3           1.0  33.0         1.0               3.0        4.0   \n",
       " 4           1.0  27.0         1.0               2.0        1.0   \n",
       " ...         ...   ...         ...               ...        ...   \n",
       " 1465        1.0  36.0         1.0              23.0        2.0   \n",
       " 1466        1.0  39.0         1.0               6.0        1.0   \n",
       " 1467        1.0  27.0         1.0               4.0        3.0   \n",
       " 1468        1.0  49.0         2.0               2.0        3.0   \n",
       " 1469        1.0  34.0         1.0               8.0        3.0   \n",
       " \n",
       "       EducationField  YearsAtCompany  \n",
       " 0                1.0             6.0  \n",
       " 1                1.0            10.0  \n",
       " 2                6.0             0.0  \n",
       " 3                1.0             8.0  \n",
       " 4                2.0             2.0  \n",
       " ...              ...             ...  \n",
       " 1465             2.0             5.0  \n",
       " 1466             2.0             7.0  \n",
       " 1467             1.0             6.0  \n",
       " 1468             2.0             9.0  \n",
       " 1469             2.0             4.0  \n",
       " \n",
       " [1470 rows x 7 columns])"
      ]
     },
     "execution_count": 137,
     "metadata": {},
     "output_type": "execute_result"
    }
   ],
   "source": [
    "y,x"
   ]
  },
  {
   "cell_type": "code",
   "execution_count": 138,
   "id": "da06ec22",
   "metadata": {},
   "outputs": [],
   "source": [
    "y=np.ravel(y)"
   ]
  },
  {
   "cell_type": "code",
   "execution_count": 150,
   "id": "bd338e46",
   "metadata": {},
   "outputs": [
    {
     "data": {
      "text/plain": [
       "0.8408163265306122"
      ]
     },
     "execution_count": 150,
     "metadata": {},
     "output_type": "execute_result"
    }
   ],
   "source": [
    "from sklearn.linear_model import LogisticRegression\n",
    "model = LogisticRegression()\n",
    "model = model.fit(x,y)\n",
    "model.score(x,y)"
   ]
  },
  {
   "cell_type": "code",
   "execution_count": 151,
   "id": "9ae8eccb",
   "metadata": {},
   "outputs": [
    {
     "data": {
      "text/plain": [
       "0.16122448979591836"
      ]
     },
     "execution_count": 151,
     "metadata": {},
     "output_type": "execute_result"
    }
   ],
   "source": [
    "y.mean()"
   ]
  },
  {
   "cell_type": "code",
   "execution_count": 152,
   "id": "acfccc73",
   "metadata": {},
   "outputs": [
    {
     "data": {
      "text/plain": [
       "LogisticRegression()"
      ]
     },
     "execution_count": 152,
     "metadata": {},
     "output_type": "execute_result"
    }
   ],
   "source": [
    "X_train,X_test,y_train, y_test= sklearn.model_selection.train_test_split(x,y,test_size=0.3,random_state=0)\n",
    "model2= LogisticRegression()\n",
    "model2.fit(X_train,y_train)"
   ]
  },
  {
   "cell_type": "code",
   "execution_count": 158,
   "id": "6cacd4a8",
   "metadata": {},
   "outputs": [
    {
     "name": "stdout",
     "output_type": "stream",
     "text": [
      "[0. 0. 0. 0. 0. 0. 0. 0. 0. 0. 0. 0. 0. 0. 0. 0. 0. 0. 0. 0. 0. 0. 0. 0.\n",
      " 0. 0. 0. 0. 0. 0. 0. 0. 0. 0. 0. 0. 0. 0. 0. 0. 0. 0. 0. 0. 0. 0. 0. 0.\n",
      " 0. 0. 0. 0. 0. 0. 0. 0. 0. 0. 0. 0. 0. 0. 0. 0. 0. 0. 0. 0. 0. 0. 0. 0.\n",
      " 0. 0. 0. 0. 0. 0. 0. 0. 0. 0. 0. 0. 0. 0. 0. 0. 0. 0. 0. 0. 0. 0. 0. 0.\n",
      " 0. 0. 0. 0. 0. 0. 0. 0. 0. 0. 0. 0. 0. 0. 0. 0. 0. 0. 0. 0. 0. 0. 0. 0.\n",
      " 0. 0. 0. 0. 0. 0. 0. 0. 0. 0. 0. 0. 0. 0. 0. 0. 0. 0. 0. 0. 0. 0. 0. 0.\n",
      " 0. 0. 0. 0. 0. 0. 0. 0. 0. 0. 0. 0. 0. 0. 0. 0. 0. 0. 0. 0. 0. 0. 0. 0.\n",
      " 0. 0. 0. 0. 0. 0. 0. 0. 0. 0. 0. 0. 0. 0. 0. 0. 0. 0. 0. 0. 0. 0. 0. 0.\n",
      " 0. 0. 0. 0. 0. 0. 0. 0. 0. 0. 0. 0. 0. 0. 0. 0. 0. 0. 0. 0. 0. 0. 0. 0.\n",
      " 0. 0. 0. 0. 0. 0. 0. 0. 0. 0. 0. 0. 0. 0. 0. 0. 0. 0. 0. 0. 0. 0. 0. 0.\n",
      " 0. 0. 0. 0. 0. 0. 0. 0. 0. 0. 0. 0. 0. 0. 0. 0. 0. 0. 0. 0. 0. 0. 0. 0.\n",
      " 0. 0. 0. 0. 0. 0. 0. 0. 0. 0. 0. 0. 0. 0. 0. 0. 0. 0. 0. 0. 0. 0. 0. 0.\n",
      " 0. 0. 0. 0. 0. 0. 0. 0. 0. 0. 0. 0. 0. 0. 0. 0. 0. 0. 0. 0. 0. 0. 0. 0.\n",
      " 0. 0. 0. 0. 0. 0. 0. 0. 0. 0. 0. 0. 0. 0. 0. 0. 0. 0. 0. 0. 0. 0. 0. 0.\n",
      " 0. 0. 0. 0. 0. 0. 0. 0. 0. 0. 0. 0. 0. 0. 0. 0. 0. 0. 0. 0. 0. 0. 0. 0.\n",
      " 0. 0. 0. 0. 0. 0. 0. 0. 0. 0. 0. 0. 0. 0. 0. 0. 0. 0. 0. 0. 0. 0. 0. 0.\n",
      " 0. 0. 0. 0. 0. 0. 0. 0. 0. 0. 0. 0. 0. 0. 0. 0. 0. 0. 0. 0. 0. 0. 0. 0.\n",
      " 0. 0. 0. 0. 0. 0. 0. 0. 0. 0. 0. 0. 0. 0. 0. 0. 0. 0. 0. 0. 0. 0. 0. 0.\n",
      " 0. 0. 0. 0. 0. 0. 0. 0. 0.]\n"
     ]
    }
   ],
   "source": [
    "predicted=model2.predict(X_test)\n",
    "print (predicted)"
   ]
  },
  {
   "cell_type": "code",
   "execution_count": 160,
   "id": "943f940d",
   "metadata": {},
   "outputs": [
    {
     "name": "stdout",
     "output_type": "stream",
     "text": [
      "[[0.85827561 0.14172439]\n",
      " [0.80181603 0.19818397]\n",
      " [0.74318441 0.25681559]\n",
      " [0.86595529 0.13404471]\n",
      " [0.72669599 0.27330401]\n",
      " [0.79148746 0.20851254]\n",
      " [0.85282981 0.14717019]\n",
      " [0.8578191  0.1421809 ]\n",
      " [0.96443839 0.03556161]\n",
      " [0.93460378 0.06539622]\n",
      " [0.95098769 0.04901231]\n",
      " [0.83137802 0.16862198]\n",
      " [0.85731241 0.14268759]\n",
      " [0.86098945 0.13901055]\n",
      " [0.88765517 0.11234483]\n",
      " [0.88579557 0.11420443]\n",
      " [0.88071612 0.11928388]\n",
      " [0.77730232 0.22269768]\n",
      " [0.83499274 0.16500726]\n",
      " [0.86946146 0.13053854]\n",
      " [0.69814211 0.30185789]\n",
      " [0.94698321 0.05301679]\n",
      " [0.86853803 0.13146197]\n",
      " [0.83191835 0.16808165]\n",
      " [0.60493589 0.39506411]\n",
      " [0.84007274 0.15992726]\n",
      " [0.91555038 0.08444962]\n",
      " [0.92777094 0.07222906]\n",
      " [0.67257048 0.32742952]\n",
      " [0.86900779 0.13099221]\n",
      " [0.89798667 0.10201333]\n",
      " [0.80227319 0.19772681]\n",
      " [0.86300406 0.13699594]\n",
      " [0.95775405 0.04224595]\n",
      " [0.82449307 0.17550693]\n",
      " [0.86853119 0.13146881]\n",
      " [0.90444219 0.09555781]\n",
      " [0.65613009 0.34386991]\n",
      " [0.90331275 0.09668725]\n",
      " [0.8014122  0.1985878 ]\n",
      " [0.90360436 0.09639564]\n",
      " [0.81922498 0.18077502]\n",
      " [0.93748984 0.06251016]\n",
      " [0.92937954 0.07062046]\n",
      " [0.89455267 0.10544733]\n",
      " [0.84774264 0.15225736]\n",
      " [0.78806101 0.21193899]\n",
      " [0.84284942 0.15715058]\n",
      " [0.66541806 0.33458194]\n",
      " [0.76341326 0.23658674]\n",
      " [0.92589235 0.07410765]\n",
      " [0.78912144 0.21087856]\n",
      " [0.85806889 0.14193111]\n",
      " [0.85992338 0.14007662]\n",
      " [0.86764474 0.13235526]\n",
      " [0.8282794  0.1717206 ]\n",
      " [0.87209743 0.12790257]\n",
      " [0.86569215 0.13430785]\n",
      " [0.71253991 0.28746009]\n",
      " [0.83346521 0.16653479]\n",
      " [0.88998436 0.11001564]\n",
      " [0.69286533 0.30713467]\n",
      " [0.9432484  0.0567516 ]\n",
      " [0.83907375 0.16092625]\n",
      " [0.79735452 0.20264548]\n",
      " [0.89305061 0.10694939]\n",
      " [0.91422765 0.08577235]\n",
      " [0.84922388 0.15077612]\n",
      " [0.88927541 0.11072459]\n",
      " [0.66709447 0.33290553]\n",
      " [0.93899377 0.06100623]\n",
      " [0.72756984 0.27243016]\n",
      " [0.85222893 0.14777107]\n",
      " [0.83714148 0.16285852]\n",
      " [0.77604651 0.22395349]\n",
      " [0.71786955 0.28213045]\n",
      " [0.9329033  0.0670967 ]\n",
      " [0.95525059 0.04474941]\n",
      " [0.77884672 0.22115328]\n",
      " [0.89363743 0.10636257]\n",
      " [0.9136442  0.0863558 ]\n",
      " [0.82423795 0.17576205]\n",
      " [0.77983628 0.22016372]\n",
      " [0.77709954 0.22290046]\n",
      " [0.8374396  0.1625604 ]\n",
      " [0.75367594 0.24632406]\n",
      " [0.9779305  0.0220695 ]\n",
      " [0.94389157 0.05610843]\n",
      " [0.88170737 0.11829263]\n",
      " [0.78876701 0.21123299]\n",
      " [0.62013504 0.37986496]\n",
      " [0.81927661 0.18072339]\n",
      " [0.74684681 0.25315319]\n",
      " [0.86335415 0.13664585]\n",
      " [0.8713972  0.1286028 ]\n",
      " [0.80523387 0.19476613]\n",
      " [0.68614457 0.31385543]\n",
      " [0.64617284 0.35382716]\n",
      " [0.83821295 0.16178705]\n",
      " [0.87912863 0.12087137]\n",
      " [0.73777286 0.26222714]\n",
      " [0.76464639 0.23535361]\n",
      " [0.98069317 0.01930683]\n",
      " [0.91191715 0.08808285]\n",
      " [0.7471664  0.2528336 ]\n",
      " [0.92503563 0.07496437]\n",
      " [0.88169629 0.11830371]\n",
      " [0.73111972 0.26888028]\n",
      " [0.89822546 0.10177454]\n",
      " [0.7471601  0.2528399 ]\n",
      " [0.81157332 0.18842668]\n",
      " [0.92982962 0.07017038]\n",
      " [0.93848099 0.06151901]\n",
      " [0.83183625 0.16816375]\n",
      " [0.81462435 0.18537565]\n",
      " [0.91352647 0.08647353]\n",
      " [0.90024757 0.09975243]\n",
      " [0.83605606 0.16394394]\n",
      " [0.95153362 0.04846638]\n",
      " [0.90995941 0.09004059]\n",
      " [0.85937656 0.14062344]\n",
      " [0.85521234 0.14478766]\n",
      " [0.86616894 0.13383106]\n",
      " [0.75463931 0.24536069]\n",
      " [0.91552951 0.08447049]\n",
      " [0.96738218 0.03261782]\n",
      " [0.94101087 0.05898913]\n",
      " [0.80514591 0.19485409]\n",
      " [0.8762137  0.1237863 ]\n",
      " [0.81661616 0.18338384]\n",
      " [0.97029522 0.02970478]\n",
      " [0.88472422 0.11527578]\n",
      " [0.75973078 0.24026922]\n",
      " [0.82087668 0.17912332]\n",
      " [0.94724294 0.05275706]\n",
      " [0.95910636 0.04089364]\n",
      " [0.7370355  0.2629645 ]\n",
      " [0.93379127 0.06620873]\n",
      " [0.73954469 0.26045531]\n",
      " [0.82265909 0.17734091]\n",
      " [0.7992034  0.2007966 ]\n",
      " [0.89596259 0.10403741]\n",
      " [0.75986238 0.24013762]\n",
      " [0.89396427 0.10603573]\n",
      " [0.91392598 0.08607402]\n",
      " [0.92200807 0.07799193]\n",
      " [0.96477757 0.03522243]\n",
      " [0.95553792 0.04446208]\n",
      " [0.9250416  0.0749584 ]\n",
      " [0.61918627 0.38081373]\n",
      " [0.84295365 0.15704635]\n",
      " [0.82802133 0.17197867]\n",
      " [0.78275029 0.21724971]\n",
      " [0.96185227 0.03814773]\n",
      " [0.93082787 0.06917213]\n",
      " [0.94520904 0.05479096]\n",
      " [0.97262763 0.02737237]\n",
      " [0.79459    0.20541   ]\n",
      " [0.87843623 0.12156377]\n",
      " [0.85567742 0.14432258]\n",
      " [0.94836257 0.05163743]\n",
      " [0.92674946 0.07325054]\n",
      " [0.75766118 0.24233882]\n",
      " [0.7439593  0.2560407 ]\n",
      " [0.95361104 0.04638896]\n",
      " [0.86428046 0.13571954]\n",
      " [0.84275965 0.15724035]\n",
      " [0.76175935 0.23824065]\n",
      " [0.78797226 0.21202774]\n",
      " [0.92536545 0.07463455]\n",
      " [0.91013919 0.08986081]\n",
      " [0.94285982 0.05714018]\n",
      " [0.93050842 0.06949158]\n",
      " [0.68391448 0.31608552]\n",
      " [0.9448587  0.0551413 ]\n",
      " [0.73854785 0.26145215]\n",
      " [0.77903793 0.22096207]\n",
      " [0.93055873 0.06944127]\n",
      " [0.80773979 0.19226021]\n",
      " [0.85088673 0.14911327]\n",
      " [0.6696495  0.3303505 ]\n",
      " [0.90452081 0.09547919]\n",
      " [0.91143064 0.08856936]\n",
      " [0.86428457 0.13571543]\n",
      " [0.92696262 0.07303738]\n",
      " [0.71040448 0.28959552]\n",
      " [0.89125981 0.10874019]\n",
      " [0.85800058 0.14199942]\n",
      " [0.78097816 0.21902184]\n",
      " [0.58170682 0.41829318]\n",
      " [0.73558487 0.26441513]\n",
      " [0.70935625 0.29064375]\n",
      " [0.85525106 0.14474894]\n",
      " [0.86590281 0.13409719]\n",
      " [0.75353645 0.24646355]\n",
      " [0.89788833 0.10211167]\n",
      " [0.75991201 0.24008799]\n",
      " [0.92480825 0.07519175]\n",
      " [0.76808173 0.23191827]\n",
      " [0.88450279 0.11549721]\n",
      " [0.84939597 0.15060403]\n",
      " [0.80809077 0.19190923]\n",
      " [0.72890676 0.27109324]\n",
      " [0.85863914 0.14136086]\n",
      " [0.77931103 0.22068897]\n",
      " [0.76958281 0.23041719]\n",
      " [0.78987558 0.21012442]\n",
      " [0.91844085 0.08155915]\n",
      " [0.78255613 0.21744387]\n",
      " [0.85788658 0.14211342]\n",
      " [0.85536461 0.14463539]\n",
      " [0.76029058 0.23970942]\n",
      " [0.87332623 0.12667377]\n",
      " [0.71703697 0.28296303]\n",
      " [0.93652042 0.06347958]\n",
      " [0.8249671  0.1750329 ]\n",
      " [0.95179429 0.04820571]\n",
      " [0.83586914 0.16413086]\n",
      " [0.78575254 0.21424746]\n",
      " [0.80245889 0.19754111]\n",
      " [0.87679442 0.12320558]\n",
      " [0.70889303 0.29110697]\n",
      " [0.55944389 0.44055611]\n",
      " [0.98974525 0.01025475]\n",
      " [0.66395115 0.33604885]\n",
      " [0.91576543 0.08423457]\n",
      " [0.91851547 0.08148453]\n",
      " [0.68041921 0.31958079]\n",
      " [0.62608033 0.37391967]\n",
      " [0.73713113 0.26286887]\n",
      " [0.95407598 0.04592402]\n",
      " [0.87772466 0.12227534]\n",
      " [0.85430466 0.14569534]\n",
      " [0.91875593 0.08124407]\n",
      " [0.88052386 0.11947614]\n",
      " [0.8001656  0.1998344 ]\n",
      " [0.80634572 0.19365428]\n",
      " [0.91361888 0.08638112]\n",
      " [0.69078922 0.30921078]\n",
      " [0.94328028 0.05671972]\n",
      " [0.9086503  0.0913497 ]\n",
      " [0.73302782 0.26697218]\n",
      " [0.97974504 0.02025496]\n",
      " [0.85103451 0.14896549]\n",
      " [0.91858025 0.08141975]\n",
      " [0.8249498  0.1750502 ]\n",
      " [0.83350674 0.16649326]\n",
      " [0.88021453 0.11978547]\n",
      " [0.87720489 0.12279511]\n",
      " [0.87686116 0.12313884]\n",
      " [0.80939931 0.19060069]\n",
      " [0.86424799 0.13575201]\n",
      " [0.60591246 0.39408754]\n",
      " [0.8836791  0.1163209 ]\n",
      " [0.89230344 0.10769656]\n",
      " [0.85330886 0.14669114]\n",
      " [0.98250457 0.01749543]\n",
      " [0.76678711 0.23321289]\n",
      " [0.67839633 0.32160367]\n",
      " [0.82795853 0.17204147]\n",
      " [0.84200472 0.15799528]\n",
      " [0.83795842 0.16204158]\n",
      " [0.83064534 0.16935466]\n",
      " [0.7583836  0.2416164 ]\n",
      " [0.86306491 0.13693509]\n",
      " [0.90317268 0.09682732]\n",
      " [0.84218995 0.15781005]\n",
      " [0.80762648 0.19237352]\n",
      " [0.74334805 0.25665195]\n",
      " [0.86581713 0.13418287]\n",
      " [0.8344158  0.1655842 ]\n",
      " [0.85904369 0.14095631]\n",
      " [0.66606428 0.33393572]\n",
      " [0.90030644 0.09969356]\n",
      " [0.89494028 0.10505972]\n",
      " [0.92315027 0.07684973]\n",
      " [0.83522763 0.16477237]\n",
      " [0.89172347 0.10827653]\n",
      " [0.91271588 0.08728412]\n",
      " [0.79285108 0.20714892]\n",
      " [0.69229759 0.30770241]\n",
      " [0.84212017 0.15787983]\n",
      " [0.75606535 0.24393465]\n",
      " [0.85340867 0.14659133]\n",
      " [0.9925664  0.0074336 ]\n",
      " [0.85538074 0.14461926]\n",
      " [0.88119057 0.11880943]\n",
      " [0.82924425 0.17075575]\n",
      " [0.94238862 0.05761138]\n",
      " [0.86910443 0.13089557]\n",
      " [0.88369729 0.11630271]\n",
      " [0.82782815 0.17217185]\n",
      " [0.86075965 0.13924035]\n",
      " [0.8597367  0.1402633 ]\n",
      " [0.8895856  0.1104144 ]\n",
      " [0.82195277 0.17804723]\n",
      " [0.79238436 0.20761564]\n",
      " [0.87649885 0.12350115]\n",
      " [0.63448474 0.36551526]\n",
      " [0.93786634 0.06213366]\n",
      " [0.89581535 0.10418465]\n",
      " [0.72740313 0.27259687]\n",
      " [0.67339532 0.32660468]\n",
      " [0.87150116 0.12849884]\n",
      " [0.86023255 0.13976745]\n",
      " [0.97420644 0.02579356]\n",
      " [0.85635712 0.14364288]\n",
      " [0.59050432 0.40949568]\n",
      " [0.89983477 0.10016523]\n",
      " [0.78271631 0.21728369]\n",
      " [0.86468322 0.13531678]\n",
      " [0.8856115  0.1143885 ]\n",
      " [0.87507139 0.12492861]\n",
      " [0.85183358 0.14816642]\n",
      " [0.77363754 0.22636246]\n",
      " [0.80604073 0.19395927]\n",
      " [0.84807227 0.15192773]\n",
      " [0.7477244  0.2522756 ]\n",
      " [0.7499951  0.2500049 ]\n",
      " [0.88682844 0.11317156]\n",
      " [0.52975871 0.47024129]\n",
      " [0.92345215 0.07654785]\n",
      " [0.79105764 0.20894236]\n",
      " [0.67058277 0.32941723]\n",
      " [0.91058923 0.08941077]\n",
      " [0.9357022  0.0642978 ]\n",
      " [0.87996808 0.12003192]\n",
      " [0.8849145  0.1150855 ]\n",
      " [0.95636495 0.04363505]\n",
      " [0.89938391 0.10061609]\n",
      " [0.94810647 0.05189353]\n",
      " [0.82804227 0.17195773]\n",
      " [0.87424837 0.12575163]\n",
      " [0.81518065 0.18481935]\n",
      " [0.8111434  0.1888566 ]\n",
      " [0.95048167 0.04951833]\n",
      " [0.86481344 0.13518656]\n",
      " [0.90147711 0.09852289]\n",
      " [0.83616503 0.16383497]\n",
      " [0.83556524 0.16443476]\n",
      " [0.78613564 0.21386436]\n",
      " [0.81159581 0.18840419]\n",
      " [0.81007651 0.18992349]\n",
      " [0.83220135 0.16779865]\n",
      " [0.91486856 0.08513144]\n",
      " [0.91355184 0.08644816]\n",
      " [0.67553003 0.32446997]\n",
      " [0.9903924  0.0096076 ]\n",
      " [0.80303211 0.19696789]\n",
      " [0.80038096 0.19961904]\n",
      " [0.73077343 0.26922657]\n",
      " [0.66613264 0.33386736]\n",
      " [0.79124919 0.20875081]\n",
      " [0.84559032 0.15440968]\n",
      " [0.86572985 0.13427015]\n",
      " [0.84007323 0.15992677]\n",
      " [0.84505044 0.15494956]\n",
      " [0.82343169 0.17656831]\n",
      " [0.92138376 0.07861624]\n",
      " [0.8260707  0.1739293 ]\n",
      " [0.97617237 0.02382763]\n",
      " [0.90386172 0.09613828]\n",
      " [0.92711986 0.07288014]\n",
      " [0.84361515 0.15638485]\n",
      " [0.7677558  0.2322442 ]\n",
      " [0.94921456 0.05078544]\n",
      " [0.94582545 0.05417455]\n",
      " [0.75429388 0.24570612]\n",
      " [0.87505829 0.12494171]\n",
      " [0.80640817 0.19359183]\n",
      " [0.93660531 0.06339469]\n",
      " [0.85607369 0.14392631]\n",
      " [0.73790489 0.26209511]\n",
      " [0.9050844  0.0949156 ]\n",
      " [0.75390072 0.24609928]\n",
      " [0.9381321  0.0618679 ]\n",
      " [0.91585379 0.08414621]\n",
      " [0.9068874  0.0931126 ]\n",
      " [0.77045675 0.22954325]\n",
      " [0.93949163 0.06050837]\n",
      " [0.80756007 0.19243993]\n",
      " [0.89759551 0.10240449]\n",
      " [0.87428575 0.12571425]\n",
      " [0.79418583 0.20581417]\n",
      " [0.81504679 0.18495321]\n",
      " [0.5882067  0.4117933 ]\n",
      " [0.94900961 0.05099039]\n",
      " [0.7343006  0.2656994 ]\n",
      " [0.89309682 0.10690318]\n",
      " [0.80226466 0.19773534]\n",
      " [0.87727522 0.12272478]\n",
      " [0.96566537 0.03433463]\n",
      " [0.81654438 0.18345562]\n",
      " [0.86091906 0.13908094]\n",
      " [0.65145393 0.34854607]\n",
      " [0.85824921 0.14175079]\n",
      " [0.92520323 0.07479677]\n",
      " [0.81788167 0.18211833]\n",
      " [0.92009798 0.07990202]\n",
      " [0.89033466 0.10966534]\n",
      " [0.70182444 0.29817556]\n",
      " [0.82132849 0.17867151]\n",
      " [0.96587585 0.03412415]\n",
      " [0.87073723 0.12926277]\n",
      " [0.89503516 0.10496484]\n",
      " [0.88279428 0.11720572]\n",
      " [0.80808532 0.19191468]\n",
      " [0.88537336 0.11462664]\n",
      " [0.83192182 0.16807818]\n",
      " [0.84065774 0.15934226]\n",
      " [0.82550604 0.17449396]\n",
      " [0.94061865 0.05938135]\n",
      " [0.83157903 0.16842097]\n",
      " [0.77446626 0.22553374]\n",
      " [0.69533323 0.30466677]\n",
      " [0.86025058 0.13974942]\n",
      " [0.80282723 0.19717277]\n",
      " [0.81426653 0.18573347]\n",
      " [0.86779187 0.13220813]\n",
      " [0.89455267 0.10544733]\n",
      " [0.82478938 0.17521062]\n",
      " [0.73070276 0.26929724]\n",
      " [0.94281212 0.05718788]\n",
      " [0.95810046 0.04189954]\n",
      " [0.89849512 0.10150488]\n",
      " [0.88643392 0.11356608]\n",
      " [0.84391078 0.15608922]\n",
      " [0.78472011 0.21527989]\n",
      " [0.71627476 0.28372524]\n",
      " [0.9317181  0.0682819 ]\n",
      " [0.65532317 0.34467683]\n",
      " [0.78074576 0.21925424]\n",
      " [0.9397259  0.0602741 ]\n",
      " [0.82169529 0.17830471]\n",
      " [0.92451186 0.07548814]\n",
      " [0.80912789 0.19087211]\n",
      " [0.88855158 0.11144842]\n",
      " [0.85264563 0.14735437]\n",
      " [0.63153452 0.36846548]\n",
      " [0.93120463 0.06879537]\n",
      " [0.90054589 0.09945411]]\n"
     ]
    }
   ],
   "source": [
    "probs=model2.predict_proba(X_test)\n",
    "print(probs)"
   ]
  },
  {
   "cell_type": "code",
   "execution_count": 161,
   "id": "6b61b902",
   "metadata": {},
   "outputs": [
    {
     "name": "stdout",
     "output_type": "stream",
     "text": [
      "0.8412698412698413\n",
      "0.6539468617635734\n"
     ]
    }
   ],
   "source": [
    "from sklearn import metrics\n",
    "\n",
    "print (metrics.accuracy_score(y_test, predicted))\n",
    "print (metrics.roc_auc_score(y_test, probs[:, 1]))"
   ]
  },
  {
   "cell_type": "code",
   "execution_count": 162,
   "id": "4ec83f80",
   "metadata": {},
   "outputs": [
    {
     "name": "stdout",
     "output_type": "stream",
     "text": [
      "[[371   0]\n",
      " [ 70   0]]\n",
      "              precision    recall  f1-score   support\n",
      "\n",
      "         0.0       0.84      1.00      0.91       371\n",
      "         1.0       0.00      0.00      0.00        70\n",
      "\n",
      "    accuracy                           0.84       441\n",
      "   macro avg       0.42      0.50      0.46       441\n",
      "weighted avg       0.71      0.84      0.77       441\n",
      "\n"
     ]
    },
    {
     "name": "stderr",
     "output_type": "stream",
     "text": [
      "/Users/rushipankade/opt/anaconda3/lib/python3.9/site-packages/sklearn/metrics/_classification.py:1248: UndefinedMetricWarning: Precision and F-score are ill-defined and being set to 0.0 in labels with no predicted samples. Use `zero_division` parameter to control this behavior.\n",
      "  _warn_prf(average, modifier, msg_start, len(result))\n",
      "/Users/rushipankade/opt/anaconda3/lib/python3.9/site-packages/sklearn/metrics/_classification.py:1248: UndefinedMetricWarning: Precision and F-score are ill-defined and being set to 0.0 in labels with no predicted samples. Use `zero_division` parameter to control this behavior.\n",
      "  _warn_prf(average, modifier, msg_start, len(result))\n",
      "/Users/rushipankade/opt/anaconda3/lib/python3.9/site-packages/sklearn/metrics/_classification.py:1248: UndefinedMetricWarning: Precision and F-score are ill-defined and being set to 0.0 in labels with no predicted samples. Use `zero_division` parameter to control this behavior.\n",
      "  _warn_prf(average, modifier, msg_start, len(result))\n"
     ]
    }
   ],
   "source": [
    "print (metrics.confusion_matrix(y_test, predicted))\n",
    "print (metrics.classification_report(y_test, predicted))"
   ]
  },
  {
   "cell_type": "code",
   "execution_count": 163,
   "id": "f030038d",
   "metadata": {},
   "outputs": [
    {
     "name": "stdout",
     "output_type": "stream",
     "text": [
      "      Intercept   Age  Department  DistanceFromHome  Education  \\\n",
      "338         1.0  30.0         2.0               5.0        3.0   \n",
      "363         1.0  33.0         2.0               5.0        3.0   \n",
      "759         1.0  45.0         3.0              24.0        4.0   \n",
      "793         1.0  28.0         1.0              15.0        2.0   \n",
      "581         1.0  30.0         1.0               1.0        3.0   \n",
      "...         ...   ...         ...               ...        ...   \n",
      "763         1.0  34.0         2.0              10.0        4.0   \n",
      "835         1.0  35.0         3.0               8.0        4.0   \n",
      "1216        1.0  43.0         2.0               2.0        3.0   \n",
      "559         1.0  38.0         1.0               2.0        5.0   \n",
      "684         1.0  40.0         2.0              10.0        4.0   \n",
      "\n",
      "      EducationField  YearsAtCompany  \n",
      "338              3.0            10.0  \n",
      "363              3.0             1.0  \n",
      "759              2.0             6.0  \n",
      "793              1.0             4.0  \n",
      "581              1.0             2.0  \n",
      "...              ...             ...  \n",
      "763              1.0             1.0  \n",
      "835              4.0             5.0  \n",
      "1216             2.0            10.0  \n",
      "559              2.0             1.0  \n",
      "684              3.0             1.0  \n",
      "\n",
      "[1029 rows x 7 columns]\n"
     ]
    }
   ],
   "source": [
    "print (X_train)"
   ]
  },
  {
   "cell_type": "code",
   "execution_count": 164,
   "id": "69888242",
   "metadata": {},
   "outputs": [
    {
     "name": "stdout",
     "output_type": "stream",
     "text": [
      "[[1.84952893e-06 9.99998150e-01]]\n"
     ]
    }
   ],
   "source": [
    "kk=[[1.0, 23.0, 1.0, 500.0, 3.0, 24.0, 1.0]]\n",
    "print(model.predict_proba(kk))"
   ]
  },
  {
   "cell_type": "code",
   "execution_count": null,
   "id": "27d98af1",
   "metadata": {},
   "outputs": [],
   "source": []
  }
 ],
 "metadata": {
  "kernelspec": {
   "display_name": "Python 3 (ipykernel)",
   "language": "python",
   "name": "python3"
  },
  "language_info": {
   "codemirror_mode": {
    "name": "ipython",
    "version": 3
   },
   "file_extension": ".py",
   "mimetype": "text/x-python",
   "name": "python",
   "nbconvert_exporter": "python",
   "pygments_lexer": "ipython3",
   "version": "3.9.7"
  }
 },
 "nbformat": 4,
 "nbformat_minor": 5
}
